{
 "cells": [
  {
   "cell_type": "markdown",
   "metadata": {},
   "source": [
    "# Prompt Engineering Essentials"
   ]
  },
  {
   "cell_type": "markdown",
   "metadata": {},
   "source": [
    "### What is prompt engineering?"
   ]
  },
  {
   "cell_type": "markdown",
   "metadata": {},
   "source": [
    "\n",
    "Prompt engineering is the discipline of developing and optimizing prompts to efficiently use language models for various applications and research topics.\n",
    "\n",
    "Prompt engineering is the art of crafting the perfect question to get the perfect answer from an LLM. Since the results you achieve with an LLM depend heavily on the prompt you provide, mastering prompt engineering is key to unlocking the full potential of these models.\n",
    "\n",
    "You don’t need to be a data scientist or an Machine learning Engineer to use an LLM — as long as you understand English (or your language of choice) you can solve relatively complex problems with an LLM! When solving a problem with an LLM, however, the results that we achieve depend heavily upon the textual prompt provided to the model. For this reason, prompt engineering — the empirical science of testing different prompts to optimize an LLM’s performance — has become extremely popular and impactful, resulting in the discovery of many techniques and best practices\n",
    "\n",
    "When it comes to prompting a large language model (LLM), there’s no one-size-fits-all approach. However, despite the diversity of prompting strategies, most share a common set of building blocks."
   ]
  },
  {
   "cell_type": "markdown",
   "metadata": {},
   "source": [
    "### Prompting components"
   ]
  },
  {
   "cell_type": "markdown",
   "metadata": {},
   "source": [
    "Let’s break down the five essential components that make up a well-crafted prompt:\n",
    "\n",
    "Input Data: The Foundation\n",
    "This is the actual data that the LLM will process, such as a sentence to be translated, a document to be summarized, or an image to be captioned. Think of it as the raw material that the model will work with.\n",
    "\n",
    "2. Exemplars: Guiding Lights\n",
    "\n",
    "Exemplars are concrete examples of correct input-output pairs that are included within the prompt. They provide a clear illustration of what the model should aim to achieve, helping it learn from positive examples.\n",
    "\n",
    "3. Instruction: The Model’s Mission Brief\n",
    "\n",
    "This is a textual description of the output that is expected of the model. It’s the instruction that tells the LLM what task to perform, such as “Translate this sentence into Spanish” or “Summarize this article in 50 words.”\n",
    "\n",
    "4. Indicators: Structural Signposts\n",
    "\n",
    "Indicators are tags or formatting elements that create structure within the prompt. They help the model understand the relationships between different pieces of information and navigate the prompt more effectively.\n",
    "\n",
    "5. Context: The Extra Edge\n",
    "\n",
    "Context refers to any additional information provided to the LLM in the prompt. This could include background knowledge, relevant definitions, or other supporting details that help the model better understand the task at hand.\n",
    "\n",
    "![PromptEngineering](/images/promptEngineering.png)\n"
   ]
  },
  {
   "cell_type": "markdown",
   "metadata": {},
   "source": [
    "### Setup\n",
    "First, let's import the necessary libraries\n"
   ]
  },
  {
   "cell_type": "code",
   "execution_count": 1,
   "metadata": {},
   "outputs": [
    {
     "name": "stdout",
     "output_type": "stream",
     "text": [
      "Requirement already satisfied: langchain_openai in /Users/krishnapriya/.pyenv/versions/3.10.10/lib/python3.10/site-packages (0.2.12)\n",
      "Requirement already satisfied: langchain-core<0.4.0,>=0.3.21 in /Users/krishnapriya/.pyenv/versions/3.10.10/lib/python3.10/site-packages (from langchain_openai) (0.3.25)\n",
      "Requirement already satisfied: openai<2.0.0,>=1.55.3 in /Users/krishnapriya/.pyenv/versions/3.10.10/lib/python3.10/site-packages (from langchain_openai) (1.58.1)\n",
      "Requirement already satisfied: tiktoken<1,>=0.7 in /Users/krishnapriya/.pyenv/versions/3.10.10/lib/python3.10/site-packages (from langchain_openai) (0.8.0)\n",
      "Requirement already satisfied: jsonpatch<2.0,>=1.33 in /Users/krishnapriya/.pyenv/versions/3.10.10/lib/python3.10/site-packages (from langchain-core<0.4.0,>=0.3.21->langchain_openai) (1.33)\n",
      "Requirement already satisfied: packaging<25,>=23.2 in /Users/krishnapriya/.pyenv/versions/3.10.10/lib/python3.10/site-packages (from langchain-core<0.4.0,>=0.3.21->langchain_openai) (24.1)\n",
      "Requirement already satisfied: langsmith<0.3,>=0.1.125 in /Users/krishnapriya/.pyenv/versions/3.10.10/lib/python3.10/site-packages (from langchain-core<0.4.0,>=0.3.21->langchain_openai) (0.2.3)\n",
      "Requirement already satisfied: pydantic<3.0.0,>=2.5.2 in /Users/krishnapriya/.pyenv/versions/3.10.10/lib/python3.10/site-packages (from langchain-core<0.4.0,>=0.3.21->langchain_openai) (2.10.3)\n",
      "Requirement already satisfied: typing-extensions>=4.7 in /Users/krishnapriya/.pyenv/versions/3.10.10/lib/python3.10/site-packages (from langchain-core<0.4.0,>=0.3.21->langchain_openai) (4.12.2)\n",
      "Requirement already satisfied: PyYAML>=5.3 in /Users/krishnapriya/.pyenv/versions/3.10.10/lib/python3.10/site-packages (from langchain-core<0.4.0,>=0.3.21->langchain_openai) (6.0.2)\n",
      "Requirement already satisfied: tenacity!=8.4.0,<10.0.0,>=8.1.0 in /Users/krishnapriya/.pyenv/versions/3.10.10/lib/python3.10/site-packages (from langchain-core<0.4.0,>=0.3.21->langchain_openai) (9.0.0)\n",
      "Requirement already satisfied: sniffio in /Users/krishnapriya/.pyenv/versions/3.10.10/lib/python3.10/site-packages (from openai<2.0.0,>=1.55.3->langchain_openai) (1.3.1)\n",
      "Requirement already satisfied: httpx<1,>=0.23.0 in /Users/krishnapriya/.pyenv/versions/3.10.10/lib/python3.10/site-packages (from openai<2.0.0,>=1.55.3->langchain_openai) (0.28.1)\n",
      "Requirement already satisfied: distro<2,>=1.7.0 in /Users/krishnapriya/.pyenv/versions/3.10.10/lib/python3.10/site-packages (from openai<2.0.0,>=1.55.3->langchain_openai) (1.9.0)\n",
      "Requirement already satisfied: anyio<5,>=3.5.0 in /Users/krishnapriya/.pyenv/versions/3.10.10/lib/python3.10/site-packages (from openai<2.0.0,>=1.55.3->langchain_openai) (4.7.0)\n",
      "Requirement already satisfied: jiter<1,>=0.4.0 in /Users/krishnapriya/.pyenv/versions/3.10.10/lib/python3.10/site-packages (from openai<2.0.0,>=1.55.3->langchain_openai) (0.8.2)\n",
      "Requirement already satisfied: tqdm>4 in /Users/krishnapriya/.pyenv/versions/3.10.10/lib/python3.10/site-packages (from openai<2.0.0,>=1.55.3->langchain_openai) (4.67.1)\n",
      "Requirement already satisfied: regex>=2022.1.18 in /Users/krishnapriya/.pyenv/versions/3.10.10/lib/python3.10/site-packages (from tiktoken<1,>=0.7->langchain_openai) (2024.11.6)\n",
      "Requirement already satisfied: requests>=2.26.0 in /Users/krishnapriya/.pyenv/versions/3.10.10/lib/python3.10/site-packages (from tiktoken<1,>=0.7->langchain_openai) (2.32.3)\n",
      "Requirement already satisfied: idna>=2.8 in /Users/krishnapriya/.pyenv/versions/3.10.10/lib/python3.10/site-packages (from anyio<5,>=3.5.0->openai<2.0.0,>=1.55.3->langchain_openai) (3.10)\n",
      "Requirement already satisfied: exceptiongroup>=1.0.2 in /Users/krishnapriya/.pyenv/versions/3.10.10/lib/python3.10/site-packages (from anyio<5,>=3.5.0->openai<2.0.0,>=1.55.3->langchain_openai) (1.2.2)\n",
      "Requirement already satisfied: httpcore==1.* in /Users/krishnapriya/.pyenv/versions/3.10.10/lib/python3.10/site-packages (from httpx<1,>=0.23.0->openai<2.0.0,>=1.55.3->langchain_openai) (1.0.7)\n",
      "Requirement already satisfied: certifi in /Users/krishnapriya/.pyenv/versions/3.10.10/lib/python3.10/site-packages (from httpx<1,>=0.23.0->openai<2.0.0,>=1.55.3->langchain_openai) (2024.12.14)\n",
      "Requirement already satisfied: h11<0.15,>=0.13 in /Users/krishnapriya/.pyenv/versions/3.10.10/lib/python3.10/site-packages (from httpcore==1.*->httpx<1,>=0.23.0->openai<2.0.0,>=1.55.3->langchain_openai) (0.14.0)\n",
      "Requirement already satisfied: jsonpointer>=1.9 in /Users/krishnapriya/.pyenv/versions/3.10.10/lib/python3.10/site-packages (from jsonpatch<2.0,>=1.33->langchain-core<0.4.0,>=0.3.21->langchain_openai) (3.0.0)\n",
      "Requirement already satisfied: orjson<4.0.0,>=3.9.14 in /Users/krishnapriya/.pyenv/versions/3.10.10/lib/python3.10/site-packages (from langsmith<0.3,>=0.1.125->langchain-core<0.4.0,>=0.3.21->langchain_openai) (3.10.12)\n",
      "Requirement already satisfied: requests-toolbelt<2.0.0,>=1.0.0 in /Users/krishnapriya/.pyenv/versions/3.10.10/lib/python3.10/site-packages (from langsmith<0.3,>=0.1.125->langchain-core<0.4.0,>=0.3.21->langchain_openai) (1.0.0)\n",
      "Requirement already satisfied: annotated-types>=0.6.0 in /Users/krishnapriya/.pyenv/versions/3.10.10/lib/python3.10/site-packages (from pydantic<3.0.0,>=2.5.2->langchain-core<0.4.0,>=0.3.21->langchain_openai) (0.7.0)\n",
      "Requirement already satisfied: pydantic-core==2.27.1 in /Users/krishnapriya/.pyenv/versions/3.10.10/lib/python3.10/site-packages (from pydantic<3.0.0,>=2.5.2->langchain-core<0.4.0,>=0.3.21->langchain_openai) (2.27.1)\n",
      "Requirement already satisfied: charset-normalizer<4,>=2 in /Users/krishnapriya/.pyenv/versions/3.10.10/lib/python3.10/site-packages (from requests>=2.26.0->tiktoken<1,>=0.7->langchain_openai) (3.4.0)\n",
      "Requirement already satisfied: urllib3<3,>=1.21.1 in /Users/krishnapriya/.pyenv/versions/3.10.10/lib/python3.10/site-packages (from requests>=2.26.0->tiktoken<1,>=0.7->langchain_openai) (2.2.3)\n",
      "\n",
      "\u001b[1m[\u001b[0m\u001b[34;49mnotice\u001b[0m\u001b[1;39;49m]\u001b[0m\u001b[39;49m A new release of pip available: \u001b[0m\u001b[31;49m22.3.1\u001b[0m\u001b[39;49m -> \u001b[0m\u001b[32;49m24.3.1\u001b[0m\n",
      "\u001b[1m[\u001b[0m\u001b[34;49mnotice\u001b[0m\u001b[1;39;49m]\u001b[0m\u001b[39;49m To update, run: \u001b[0m\u001b[32;49mpip install --upgrade pip\u001b[0m\n",
      "Requirement already satisfied: langchain in /Users/krishnapriya/.pyenv/versions/3.10.10/lib/python3.10/site-packages (0.3.12)\n",
      "Requirement already satisfied: async-timeout<5.0.0,>=4.0.0 in /Users/krishnapriya/.pyenv/versions/3.10.10/lib/python3.10/site-packages (from langchain) (4.0.3)\n",
      "Requirement already satisfied: tenacity!=8.4.0,<10,>=8.1.0 in /Users/krishnapriya/.pyenv/versions/3.10.10/lib/python3.10/site-packages (from langchain) (9.0.0)\n",
      "Requirement already satisfied: SQLAlchemy<3,>=1.4 in /Users/krishnapriya/.pyenv/versions/3.10.10/lib/python3.10/site-packages (from langchain) (2.0.36)\n",
      "Requirement already satisfied: pydantic<3.0.0,>=2.7.4 in /Users/krishnapriya/.pyenv/versions/3.10.10/lib/python3.10/site-packages (from langchain) (2.10.3)\n",
      "Requirement already satisfied: aiohttp<4.0.0,>=3.8.3 in /Users/krishnapriya/.pyenv/versions/3.10.10/lib/python3.10/site-packages (from langchain) (3.11.10)\n",
      "Requirement already satisfied: PyYAML>=5.3 in /Users/krishnapriya/.pyenv/versions/3.10.10/lib/python3.10/site-packages (from langchain) (6.0.2)\n",
      "Requirement already satisfied: numpy<2,>=1.22.4 in /Users/krishnapriya/.pyenv/versions/3.10.10/lib/python3.10/site-packages (from langchain) (1.26.4)\n",
      "Requirement already satisfied: langsmith<0.3,>=0.1.17 in /Users/krishnapriya/.pyenv/versions/3.10.10/lib/python3.10/site-packages (from langchain) (0.2.3)\n",
      "Requirement already satisfied: requests<3,>=2 in /Users/krishnapriya/.pyenv/versions/3.10.10/lib/python3.10/site-packages (from langchain) (2.32.3)\n",
      "Requirement already satisfied: langchain-text-splitters<0.4.0,>=0.3.3 in /Users/krishnapriya/.pyenv/versions/3.10.10/lib/python3.10/site-packages (from langchain) (0.3.3)\n",
      "Requirement already satisfied: langchain-core<0.4.0,>=0.3.25 in /Users/krishnapriya/.pyenv/versions/3.10.10/lib/python3.10/site-packages (from langchain) (0.3.25)\n",
      "Requirement already satisfied: yarl<2.0,>=1.17.0 in /Users/krishnapriya/.pyenv/versions/3.10.10/lib/python3.10/site-packages (from aiohttp<4.0.0,>=3.8.3->langchain) (1.18.3)\n",
      "Requirement already satisfied: multidict<7.0,>=4.5 in /Users/krishnapriya/.pyenv/versions/3.10.10/lib/python3.10/site-packages (from aiohttp<4.0.0,>=3.8.3->langchain) (6.1.0)\n",
      "Requirement already satisfied: attrs>=17.3.0 in /Users/krishnapriya/.pyenv/versions/3.10.10/lib/python3.10/site-packages (from aiohttp<4.0.0,>=3.8.3->langchain) (24.3.0)\n",
      "Requirement already satisfied: frozenlist>=1.1.1 in /Users/krishnapriya/.pyenv/versions/3.10.10/lib/python3.10/site-packages (from aiohttp<4.0.0,>=3.8.3->langchain) (1.5.0)\n",
      "Requirement already satisfied: aiosignal>=1.1.2 in /Users/krishnapriya/.pyenv/versions/3.10.10/lib/python3.10/site-packages (from aiohttp<4.0.0,>=3.8.3->langchain) (1.3.2)\n",
      "Requirement already satisfied: propcache>=0.2.0 in /Users/krishnapriya/.pyenv/versions/3.10.10/lib/python3.10/site-packages (from aiohttp<4.0.0,>=3.8.3->langchain) (0.2.1)\n",
      "Requirement already satisfied: aiohappyeyeballs>=2.3.0 in /Users/krishnapriya/.pyenv/versions/3.10.10/lib/python3.10/site-packages (from aiohttp<4.0.0,>=3.8.3->langchain) (2.4.4)\n",
      "Requirement already satisfied: jsonpatch<2.0,>=1.33 in /Users/krishnapriya/.pyenv/versions/3.10.10/lib/python3.10/site-packages (from langchain-core<0.4.0,>=0.3.25->langchain) (1.33)\n",
      "Requirement already satisfied: typing-extensions>=4.7 in /Users/krishnapriya/.pyenv/versions/3.10.10/lib/python3.10/site-packages (from langchain-core<0.4.0,>=0.3.25->langchain) (4.12.2)\n",
      "Requirement already satisfied: packaging<25,>=23.2 in /Users/krishnapriya/.pyenv/versions/3.10.10/lib/python3.10/site-packages (from langchain-core<0.4.0,>=0.3.25->langchain) (24.1)\n",
      "Requirement already satisfied: httpx<1,>=0.23.0 in /Users/krishnapriya/.pyenv/versions/3.10.10/lib/python3.10/site-packages (from langsmith<0.3,>=0.1.17->langchain) (0.28.1)\n",
      "Requirement already satisfied: orjson<4.0.0,>=3.9.14 in /Users/krishnapriya/.pyenv/versions/3.10.10/lib/python3.10/site-packages (from langsmith<0.3,>=0.1.17->langchain) (3.10.12)\n",
      "Requirement already satisfied: requests-toolbelt<2.0.0,>=1.0.0 in /Users/krishnapriya/.pyenv/versions/3.10.10/lib/python3.10/site-packages (from langsmith<0.3,>=0.1.17->langchain) (1.0.0)\n",
      "Requirement already satisfied: annotated-types>=0.6.0 in /Users/krishnapriya/.pyenv/versions/3.10.10/lib/python3.10/site-packages (from pydantic<3.0.0,>=2.7.4->langchain) (0.7.0)\n",
      "Requirement already satisfied: pydantic-core==2.27.1 in /Users/krishnapriya/.pyenv/versions/3.10.10/lib/python3.10/site-packages (from pydantic<3.0.0,>=2.7.4->langchain) (2.27.1)\n",
      "Requirement already satisfied: certifi>=2017.4.17 in /Users/krishnapriya/.pyenv/versions/3.10.10/lib/python3.10/site-packages (from requests<3,>=2->langchain) (2024.12.14)\n",
      "Requirement already satisfied: idna<4,>=2.5 in /Users/krishnapriya/.pyenv/versions/3.10.10/lib/python3.10/site-packages (from requests<3,>=2->langchain) (3.10)\n",
      "Requirement already satisfied: urllib3<3,>=1.21.1 in /Users/krishnapriya/.pyenv/versions/3.10.10/lib/python3.10/site-packages (from requests<3,>=2->langchain) (2.2.3)\n",
      "Requirement already satisfied: charset-normalizer<4,>=2 in /Users/krishnapriya/.pyenv/versions/3.10.10/lib/python3.10/site-packages (from requests<3,>=2->langchain) (3.4.0)\n",
      "Requirement already satisfied: httpcore==1.* in /Users/krishnapriya/.pyenv/versions/3.10.10/lib/python3.10/site-packages (from httpx<1,>=0.23.0->langsmith<0.3,>=0.1.17->langchain) (1.0.7)\n",
      "Requirement already satisfied: anyio in /Users/krishnapriya/.pyenv/versions/3.10.10/lib/python3.10/site-packages (from httpx<1,>=0.23.0->langsmith<0.3,>=0.1.17->langchain) (4.7.0)\n",
      "Requirement already satisfied: h11<0.15,>=0.13 in /Users/krishnapriya/.pyenv/versions/3.10.10/lib/python3.10/site-packages (from httpcore==1.*->httpx<1,>=0.23.0->langsmith<0.3,>=0.1.17->langchain) (0.14.0)\n",
      "Requirement already satisfied: jsonpointer>=1.9 in /Users/krishnapriya/.pyenv/versions/3.10.10/lib/python3.10/site-packages (from jsonpatch<2.0,>=1.33->langchain-core<0.4.0,>=0.3.25->langchain) (3.0.0)\n",
      "Requirement already satisfied: exceptiongroup>=1.0.2 in /Users/krishnapriya/.pyenv/versions/3.10.10/lib/python3.10/site-packages (from anyio->httpx<1,>=0.23.0->langsmith<0.3,>=0.1.17->langchain) (1.2.2)\n",
      "Requirement already satisfied: sniffio>=1.1 in /Users/krishnapriya/.pyenv/versions/3.10.10/lib/python3.10/site-packages (from anyio->httpx<1,>=0.23.0->langsmith<0.3,>=0.1.17->langchain) (1.3.1)\n",
      "\n",
      "\u001b[1m[\u001b[0m\u001b[34;49mnotice\u001b[0m\u001b[1;39;49m]\u001b[0m\u001b[39;49m A new release of pip available: \u001b[0m\u001b[31;49m22.3.1\u001b[0m\u001b[39;49m -> \u001b[0m\u001b[32;49m24.3.1\u001b[0m\n",
      "\u001b[1m[\u001b[0m\u001b[34;49mnotice\u001b[0m\u001b[1;39;49m]\u001b[0m\u001b[39;49m To update, run: \u001b[0m\u001b[32;49mpip install --upgrade pip\u001b[0m\n",
      "Requirement already satisfied: python-dotenv in /Users/krishnapriya/.pyenv/versions/3.10.10/lib/python3.10/site-packages (1.0.1)\n",
      "\n",
      "\u001b[1m[\u001b[0m\u001b[34;49mnotice\u001b[0m\u001b[1;39;49m]\u001b[0m\u001b[39;49m A new release of pip available: \u001b[0m\u001b[31;49m22.3.1\u001b[0m\u001b[39;49m -> \u001b[0m\u001b[32;49m24.3.1\u001b[0m\n",
      "\u001b[1m[\u001b[0m\u001b[34;49mnotice\u001b[0m\u001b[1;39;49m]\u001b[0m\u001b[39;49m To update, run: \u001b[0m\u001b[32;49mpip install --upgrade pip\u001b[0m\n"
     ]
    }
   ],
   "source": [
    "!pip install langchain_openai\n",
    "!pip install langchain\n",
    "!pip install python-dotenv"
   ]
  },
  {
   "cell_type": "code",
   "execution_count": 2,
   "metadata": {},
   "outputs": [
    {
     "ename": "TypeError",
     "evalue": "str expected, not NoneType",
     "output_type": "error",
     "traceback": [
      "\u001b[0;31m---------------------------------------------------------------------------\u001b[0m",
      "\u001b[0;31mTypeError\u001b[0m                                 Traceback (most recent call last)",
      "Cell \u001b[0;32mIn[2], line 9\u001b[0m\n\u001b[1;32m      6\u001b[0m \u001b[38;5;28;01mfrom\u001b[39;00m \u001b[38;5;21;01mdotenv\u001b[39;00m \u001b[38;5;28;01mimport\u001b[39;00m load_dotenv\n\u001b[1;32m      7\u001b[0m load_dotenv()\n\u001b[0;32m----> 9\u001b[0m \u001b[43mos\u001b[49m\u001b[38;5;241;43m.\u001b[39;49m\u001b[43menviron\u001b[49m\u001b[43m[\u001b[49m\u001b[38;5;124;43m\"\u001b[39;49m\u001b[38;5;124;43mOPENAI_API_KEY\u001b[39;49m\u001b[38;5;124;43m\"\u001b[39;49m\u001b[43m]\u001b[49m \u001b[38;5;241m=\u001b[39m os\u001b[38;5;241m.\u001b[39mgetenv(\u001b[38;5;124m'\u001b[39m\u001b[38;5;124mOPENAI_API_KEY\u001b[39m\u001b[38;5;124m'\u001b[39m) \u001b[38;5;66;03m# OpenAI API key\u001b[39;00m\n\u001b[1;32m     10\u001b[0m \u001b[38;5;66;03m# Initialize the language model\u001b[39;00m\n\u001b[1;32m     11\u001b[0m llm \u001b[38;5;241m=\u001b[39m ChatOpenAI(model\u001b[38;5;241m=\u001b[39m\u001b[38;5;124m\"\u001b[39m\u001b[38;5;124mgpt-4o-mini\u001b[39m\u001b[38;5;124m\"\u001b[39m)\n",
      "File \u001b[0;32m~/.pyenv/versions/3.10.10/lib/python3.10/os.py:685\u001b[0m, in \u001b[0;36m_Environ.__setitem__\u001b[0;34m(self, key, value)\u001b[0m\n\u001b[1;32m    683\u001b[0m \u001b[38;5;28;01mdef\u001b[39;00m \u001b[38;5;21m__setitem__\u001b[39m(\u001b[38;5;28mself\u001b[39m, key, value):\n\u001b[1;32m    684\u001b[0m     key \u001b[38;5;241m=\u001b[39m \u001b[38;5;28mself\u001b[39m\u001b[38;5;241m.\u001b[39mencodekey(key)\n\u001b[0;32m--> 685\u001b[0m     value \u001b[38;5;241m=\u001b[39m \u001b[38;5;28;43mself\u001b[39;49m\u001b[38;5;241;43m.\u001b[39;49m\u001b[43mencodevalue\u001b[49m\u001b[43m(\u001b[49m\u001b[43mvalue\u001b[49m\u001b[43m)\u001b[49m\n\u001b[1;32m    686\u001b[0m     putenv(key, value)\n\u001b[1;32m    687\u001b[0m     \u001b[38;5;28mself\u001b[39m\u001b[38;5;241m.\u001b[39m_data[key] \u001b[38;5;241m=\u001b[39m value\n",
      "File \u001b[0;32m~/.pyenv/versions/3.10.10/lib/python3.10/os.py:757\u001b[0m, in \u001b[0;36m_createenviron.<locals>.encode\u001b[0;34m(value)\u001b[0m\n\u001b[1;32m    755\u001b[0m \u001b[38;5;28;01mdef\u001b[39;00m \u001b[38;5;21mencode\u001b[39m(value):\n\u001b[1;32m    756\u001b[0m     \u001b[38;5;28;01mif\u001b[39;00m \u001b[38;5;129;01mnot\u001b[39;00m \u001b[38;5;28misinstance\u001b[39m(value, \u001b[38;5;28mstr\u001b[39m):\n\u001b[0;32m--> 757\u001b[0m         \u001b[38;5;28;01mraise\u001b[39;00m \u001b[38;5;167;01mTypeError\u001b[39;00m(\u001b[38;5;124m\"\u001b[39m\u001b[38;5;124mstr expected, not \u001b[39m\u001b[38;5;132;01m%s\u001b[39;00m\u001b[38;5;124m\"\u001b[39m \u001b[38;5;241m%\u001b[39m \u001b[38;5;28mtype\u001b[39m(value)\u001b[38;5;241m.\u001b[39m\u001b[38;5;18m__name__\u001b[39m)\n\u001b[1;32m    758\u001b[0m     \u001b[38;5;28;01mreturn\u001b[39;00m value\u001b[38;5;241m.\u001b[39mencode(encoding, \u001b[38;5;124m'\u001b[39m\u001b[38;5;124msurrogateescape\u001b[39m\u001b[38;5;124m'\u001b[39m)\n",
      "\u001b[0;31mTypeError\u001b[0m: str expected, not NoneType"
     ]
    }
   ],
   "source": [
    "import os\n",
    "import openai\n",
    "from langchain_openai import ChatOpenAI\n",
    "from langchain.prompts import PromptTemplate\n",
    "\n",
    "from dotenv import load_dotenv\n",
    "load_dotenv()\n",
    "\n",
    "os.environ[\"OPENAI_API_KEY\"] = os.getenv('OPENAI_API_KEY') # OpenAI API key\n",
    "# Initialize the language model\n",
    "llm = ChatOpenAI(model=\"gpt-4o-mini\")"
   ]
  },
  {
   "cell_type": "markdown",
   "metadata": {},
   "source": [
    "### Basic Concepts and Importance\n",
    "Prompt engineering is the practice of designing and optimizing input prompts for language models to generate desired outputs. It's a crucial skill for effectively leveraging AI models in various applications.\n",
    "\n",
    "Let's explore the concept with a simple example:"
   ]
  },
  {
   "cell_type": "code",
   "execution_count": 4,
   "metadata": {},
   "outputs": [
    {
     "name": "stdout",
     "output_type": "stream",
     "text": [
      "Prompt engineering is the practice of designing and optimizing input prompts to effectively guide language models in generating desired outputs.\n"
     ]
    }
   ],
   "source": [
    "basic_prompt = \"Explain the concept of prompt engineering in one sentence.\"\n",
    "print(llm.invoke(basic_prompt).content)"
   ]
  },
  {
   "cell_type": "markdown",
   "metadata": {},
   "source": [
    "Now, let's see how a more structured prompt can yield a more detailed response:"
   ]
  },
  {
   "cell_type": "code",
   "execution_count": 6,
   "metadata": {},
   "outputs": [
    {
     "name": "stdout",
     "output_type": "stream",
     "text": [
      "### Definition of Prompt Engineering\n",
      "\n",
      "**Prompt Engineering** is the process of designing and refining the input prompts given to language models, such as GPT-3 or similar AI systems, to elicit the most accurate, relevant, and contextually appropriate responses. This involves crafting questions, instructions, or statements in a way that maximizes the effectiveness of the model's output based on its training data and capabilities.\n",
      "\n",
      "### Importance of Prompt Engineering\n",
      "\n",
      "Prompt engineering is crucial because it directly influences the quality of the output generated by AI models. A well-crafted prompt can lead to more coherent, relevant, and useful responses, while a poorly formulated prompt may result in vague, irrelevant, or erroneous outputs. As AI systems become more integrated into various applications, the ability to communicate effectively with these models becomes essential for achieving desired outcomes.\n",
      "\n",
      "### Three Key Benefits of Prompt Engineering\n",
      "\n",
      "1. **Enhanced Output Quality**: By carefully designing prompts, users can significantly improve the clarity, relevance, and accuracy of the responses generated by AI models. This is particularly important in applications where precision and context matter, such as legal advice, medical information, and technical support.\n",
      "\n",
      "2. **Increased Efficiency**: Effective prompts can reduce the need for extensive back-and-forth interactions with the model. By eliciting more relevant information upfront, users can save time and streamline processes, making the interaction more efficient and productive.\n",
      "\n",
      "3. **Greater Control and Customization**: Prompt engineering allows users to tailor the AI's responses to specific needs or contexts, enabling more personalized interactions. This is particularly valuable in fields like customer service, content creation, and educational tools, where the ability to guide the conversation or output can lead to better user experiences and outcomes. \n",
      "\n",
      "In summary, prompt engineering is a vital skill in harnessing the full potential of AI language models, leading to improved communication, efficiency, and user satisfaction.\n"
     ]
    }
   ],
   "source": [
    "structured_prompt = PromptTemplate(\n",
    "    input_variables=[\"topic\"],\n",
    "    template=\"Provide a definition of {topic}, explain its importance, and list three key benefits.\"\n",
    ")\n",
    "\n",
    "chain = structured_prompt | llm # Combine the prompt template with the language model\n",
    "input_variables = {\"topic\": \"prompt engineering\"} # Define the input variables\n",
    "output = chain.invoke(input_variables).content # Invoke the chain with the input variables\n",
    "print(output)"
   ]
  },
  {
   "cell_type": "code",
   "execution_count": 7,
   "metadata": {},
   "outputs": [
    {
     "name": "stdout",
     "output_type": "stream",
     "text": [
      "Evaluation: The statement is incorrect. The capital of France is Paris.\n"
     ]
    }
   ],
   "source": [
    "fact_check_prompt = PromptTemplate(\n",
    "    input_variables=[\"statement\"],\n",
    "    template=\"\"\"Evaluate the following statement for factual accuracy. If it's incorrect, provide the correct information:\n",
    "    Statement: {statement}\n",
    "    Evaluation:\"\"\"\n",
    ")\n",
    "\n",
    "chain = fact_check_prompt | llm\n",
    "print(chain.invoke(\"The capital of France is London.\").content)"
   ]
  },
  {
   "cell_type": "code",
   "execution_count": null,
   "metadata": {},
   "outputs": [],
   "source": []
  }
 ],
 "metadata": {
  "kernelspec": {
   "display_name": "3.10.10",
   "language": "python",
   "name": "python3"
  },
  "language_info": {
   "codemirror_mode": {
    "name": "ipython",
    "version": 3
   },
   "file_extension": ".py",
   "mimetype": "text/x-python",
   "name": "python",
   "nbconvert_exporter": "python",
   "pygments_lexer": "ipython3",
   "version": "3.10.10"
  }
 },
 "nbformat": 4,
 "nbformat_minor": 2
}
